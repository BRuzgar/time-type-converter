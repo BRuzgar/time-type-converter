{
 "cells": [
  {
   "cell_type": "markdown",
   "metadata": {},
   "source": [
    "**Clock Converter:**\n",
    "\n",
    "Problem Statement: A travel planner wants a tool to convert times in different time zones.\n",
    "\n",
    "Task: The programme should convert the times in different time zones, taking a time zone and time information from the user.\n",
    "\n",
    "Solution: Write a programme in Python that converts time zones and shows the result to the user."
   ]
  },
  {
   "cell_type": "code",
   "execution_count": 2,
   "metadata": {},
   "outputs": [
    {
     "name": "stdout",
     "output_type": "stream",
     "text": [
      "Entered time: MM\n",
      "Converted clock: MM Hour\n"
     ]
    }
   ],
   "source": [
    "time_zone = input(\"Enter the time zone: \")\n",
    "clock = input(\"Enter time information (HH:MM): \")\n",
    "\n",
    "print(f\"Entered time: {clock}\")\n",
    "print(f\"Converted clock: {clock} {time_zone}\")"
   ]
  }
 ],
 "metadata": {
  "kernelspec": {
   "display_name": "Python 3",
   "language": "python",
   "name": "python3"
  },
  "language_info": {
   "codemirror_mode": {
    "name": "ipython",
    "version": 3
   },
   "file_extension": ".py",
   "mimetype": "text/x-python",
   "name": "python",
   "nbconvert_exporter": "python",
   "pygments_lexer": "ipython3",
   "version": "3.12.4"
  }
 },
 "nbformat": 4,
 "nbformat_minor": 2
}
